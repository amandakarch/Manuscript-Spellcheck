{
 "cells": [
  {
   "cell_type": "code",
   "execution_count": 1,
   "metadata": {},
   "outputs": [],
   "source": [
    "import pandas as pd\n",
    "import numpy as np\n",
    "import seaborn as sns\n",
    "import matplotlib.pyplot as plt"
   ]
  },
  {
   "cell_type": "markdown",
   "metadata": {},
   "source": [
    "The manuscript must be uploaded as a PDF file in order for the program to work. It also must be in the same folder as where you have this program stored."
   ]
  },
  {
   "cell_type": "code",
   "execution_count": 3,
   "metadata": {},
   "outputs": [
    {
     "name": "stdout",
     "output_type": "stream",
     "text": [
      "Please insert the file name (including the extension): Writing.pdf\n",
      "Number of Pages: 51\n"
     ]
    }
   ],
   "source": [
    "# import sys\n",
    "# !{sys.executable} -m pip install PyPDF2\n",
    "import PyPDF2\n",
    "\n",
    "filename = input(\"Please insert the file name (including the extension): \")\n",
    "pdf = open(filename, 'rb')\n",
    "read_pdf = PyPDF2.PdfFileReader(pdf)\n",
    "num_pages = read_pdf.getNumPages()\n",
    "print(\"Number of Pages: \" + str(num_pages))"
   ]
  },
  {
   "cell_type": "code",
   "execution_count": 4,
   "metadata": {},
   "outputs": [
    {
     "name": "stdout",
     "output_type": "stream",
     "text": [
      "<class 'PyPDF2.pdf.PdfFileReader'>\n"
     ]
    }
   ],
   "source": [
    "def typofinder(manuscript):\n",
    "    '''\n",
    "    Find all typos within manuscript.\n",
    "    \n",
    "    Parameters\n",
    "    ----------\n",
    "    manuscript: PyPDF2.pdf.PdfFileReader\n",
    "        File you want to find typos in\n",
    "    '''\n",
    "    \n",
    "    # Remember that Python indexes at 0: page 4 in the pdf will be page 3 in Python"
   ]
  }
 ],
 "metadata": {
  "kernelspec": {
   "display_name": "Python 3",
   "language": "python",
   "name": "python3"
  },
  "language_info": {
   "codemirror_mode": {
    "name": "ipython",
    "version": 3
   },
   "file_extension": ".py",
   "mimetype": "text/x-python",
   "name": "python",
   "nbconvert_exporter": "python",
   "pygments_lexer": "ipython3",
   "version": "3.7.6"
  }
 },
 "nbformat": 4,
 "nbformat_minor": 4
}
